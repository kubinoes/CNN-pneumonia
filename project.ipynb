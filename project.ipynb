{
 "cells": [
  {
   "cell_type": "code",
   "execution_count": null,
   "id": "668ac5c3",
   "metadata": {
    "scrolled": true
   },
   "outputs": [],
   "source": [
    "import keras\n",
    "import os, shutil\n",
    "#import random\n",
    "import tensorflow\n",
    "from keras.preprocessing.image import ImageDataGenerator\n",
    "from keras.models import Sequential\n",
    "from keras.optimizers import RMSprop\n",
    "from keras.layers import Conv2D, MaxPooling2D, Activation, Flatten, Dense, Dropout\n",
    "from tensorflow.keras.callbacks import EarlyStopping\n",
    "import matplotlib.pyplot as plot"
   ]
  },
  {
   "cell_type": "markdown",
   "id": "8e808c40",
   "metadata": {},
   "source": [
    "# Random under-sampling"
   ]
  },
  {
   "cell_type": "code",
   "execution_count": null,
   "id": "cdd28bb0",
   "metadata": {},
   "outputs": [],
   "source": [
    "# THIS CODE IS COMMENTED OUT BECAUSE IT ONLY NEEDS TO RUN ONCE ON ALL XRAY IMAGES OF LUNGS INFECTED WITH PNEUMONIA\n",
    "\n",
    "#pneu_folder = '/Users/jakub/Desktop/pneu'\n",
    "\n",
    "# create array with images without hidden files\n",
    "#pneu_images_array = [file for file in os.listdir(pneu_folder) if not file.startswith('.')]\n",
    "# set max range for the randint function\n",
    "#random_max = 4272\n",
    "\n",
    "#for image in range(2690):\n",
    "#    index = random.randint(0, random_max)\n",
    "    # decrease the max of the range since we are going to remove one image\n",
    "#    random_max -= 1\n",
    "    # delete the image\n",
    "#    os.remove(os.path.join(pneu_folder, pneu_images_array[index]))\n",
    "    # delete the image from the array of images\n",
    "#    pneu_images_array.pop(index)\n",
    "\n"
   ]
  },
  {
   "cell_type": "markdown",
   "id": "8a73b9dd",
   "metadata": {},
   "source": [
    "# Data Preprocessing"
   ]
  },
  {
   "cell_type": "code",
   "execution_count": null,
   "id": "8a77d474",
   "metadata": {},
   "outputs": [],
   "source": [
    "base_dir = '/Users/jakub/Documents/RUC/3rd_Semester/AI/project/pneumonia'\n",
    "\n",
    "# Directories for training, validation and test\n",
    "train_dir = os.path.join(base_dir, 'train')\n",
    "validation_dir = os.path.join(base_dir, 'validation')\n",
    "test_dir = os.path.join(base_dir, 'test')\n",
    "\n",
    "# define height and width for resizing\n",
    "img_height = 128\n",
    "img_width = 128\n",
    "\n",
    "def preprocess_images(directory):\n",
    "    datagen = ImageDataGenerator(1./255)\n",
    "    return datagen.flow_from_directory(\n",
    "        directory,\n",
    "        color_mode = 'grayscale',\n",
    "        target_size=(img_height, img_width),\n",
    "        batch_size = 32,\n",
    "        class_mode = 'binary',\n",
    "        shuffle= True)\n",
    "\n",
    "# preprocess images in train and validation folders\n",
    "train_generator = preprocess_images(train_dir)\n",
    "validation_generator = preprocess_images(validation_dir)"
   ]
  },
  {
   "cell_type": "markdown",
   "id": "8531a42c",
   "metadata": {},
   "source": [
    "# Creating the network"
   ]
  },
  {
   "cell_type": "code",
   "execution_count": null,
   "id": "d3e08a97",
   "metadata": {},
   "outputs": [],
   "source": [
    "model = Sequential()\n",
    "\n",
    "model.add(Conv2D(32, (3, 3), activation = 'relu', input_shape=(img_height, img_width, 1)))\n",
    "model.add(MaxPooling2D((2,2)))\n",
    "\n",
    "model.add(Conv2D(64, (3, 3), activation = 'relu'))\n",
    "model.add(MaxPooling2D((2, 2)))\n",
    "\n",
    "model.add(Conv2D(128, (3, 3), activation ='relu'))\n",
    "model.add(MaxPooling2D((2, 2)))\n",
    "\n",
    "model.add(Conv2D(256, (3, 3), activation ='relu'))\n",
    "model.add(MaxPooling2D((2, 2)))\n",
    "\n",
    "model.add(Flatten())\n",
    "model.add(Dropout(0.5))\n",
    "\n",
    "model.add(Dense(512, activation = 'relu'))\n",
    "model.add(Dense(1, activation = 'sigmoid'))\n",
    "\n",
    "model.compile(\n",
    "    loss = 'binary_crossentropy',\n",
    "    optimizer = Adam(lr=1e-4),\n",
    "    metrics = ['accuracy'])\n",
    "\n",
    "model.summary()"
   ]
  },
  {
   "cell_type": "code",
   "execution_count": null,
   "id": "07905943",
   "metadata": {},
   "outputs": [],
   "source": [
    "# function to stop the run in case the values are not improving and restore the weights to the best run\n",
    "earlyStopping = EarlyStopping(\n",
    "    monitor = 'val_loss',\n",
    "    patience = 3,\n",
    "    verbose = 3,\n",
    "    mode = 'min',\n",
    "    restore_best_weights = True)"
   ]
  },
  {
   "cell_type": "code",
   "execution_count": null,
   "id": "ce1bf190",
   "metadata": {},
   "outputs": [],
   "source": [
    "history = model.fit(\n",
    "    train_generator,\n",
    "    steps_per_epoch = 100,\n",
    "    epochs = 20,\n",
    "    validation_data = validation_generator,\n",
    "    validation_steps = 30,\n",
    "    callbacks = [earlyStopping])"
   ]
  },
  {
   "cell_type": "code",
   "execution_count": null,
   "id": "aa60e458",
   "metadata": {},
   "outputs": [],
   "source": [
    "acc = history.history['accuracy']\n",
    "val_acc = history.history['val_accuracy']\n",
    "loss = history.history['loss']\n",
    "val_loss = history.history['val_loss']\n",
    "\n",
    "epochs = range(len(acc))\n",
    "\n",
    "plot.plot(epochs, acc, 'bo', label='Training accuracy')\n",
    "plot.plot(epochs, val_acc, 'b', label='Validation accuracy')\n",
    "plot.title('Training and validation accuracy')\n",
    "plot.legend()\n",
    "\n",
    "plot.figure()\n",
    "\n",
    "plot.plot(epochs, loss, 'bo', label='Training loss')\n",
    "plot.plot(epochs, val_loss, 'b', label='Validation loss')\n",
    "plot.title('Training and validation loss')\n",
    "plot.legend()\n",
    "\n",
    "plot.show()"
   ]
  },
  {
   "cell_type": "code",
   "execution_count": null,
   "id": "63ad24a7",
   "metadata": {},
   "outputs": [],
   "source": [
    "test_generator = preprocess_images(test_dir)\n",
    "\n",
    "test_loss, test_acc = model.evaluate(test_generator, steps=566)\n",
    "print('test accuracy:', test_acc)\n",
    "print('test loss:', test_loss)"
   ]
  },
  {
   "cell_type": "code",
   "execution_count": null,
   "id": "18ae611e",
   "metadata": {},
   "outputs": [],
   "source": [
    "model.save('pneu8.h5')"
   ]
  },
  {
   "cell_type": "code",
   "execution_count": null,
   "id": "31af3d13",
   "metadata": {},
   "outputs": [],
   "source": []
  }
 ],
 "metadata": {
  "kernelspec": {
   "display_name": "Python 3 (ipykernel)",
   "language": "python",
   "name": "python3"
  },
  "language_info": {
   "codemirror_mode": {
    "name": "ipython",
    "version": 3
   },
   "file_extension": ".py",
   "mimetype": "text/x-python",
   "name": "python",
   "nbconvert_exporter": "python",
   "pygments_lexer": "ipython3",
   "version": "3.7.13"
  }
 },
 "nbformat": 4,
 "nbformat_minor": 5
}
